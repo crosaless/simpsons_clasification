{
  "cells": [
    {
      "cell_type": "markdown",
      "metadata": {
        "id": "v4JATGo7UeHY"
      },
      "source": [
        "# Librerias"
      ]
    },
    {
      "cell_type": "markdown",
      "metadata": {
        "id": "HNMTjiAIzocn"
      },
      "source": [
        "Esta celda importa todas las librerías utilizadas para el procesamiento de imágenes, manipulación de datos, entrenamiento de modelos y visualización."
      ]
    },
    {
      "cell_type": "code",
      "execution_count": null,
      "metadata": {
        "id": "0qen4953UJ1S"
      },
      "outputs": [],
      "source": [
        "import os\n",
        "from typing import Optional, Callable\n",
        "import numpy as np\n",
        "from tqdm import tqdm\n",
        "import pandas as pd\n",
        "import matplotlib.pyplot as plt\n",
        "from PIL import Image\n",
        "import torch\n",
        "from torchvision import transforms\n",
        "from torch import nn\n",
        "from torch.utils.data import Dataset, DataLoader\n",
        "import csv\n",
        "import random\n",
        "from itertools import combinations\n",
        "from collections import defaultdict\n",
        "import gdown\n",
        "import zipfile\n",
        "from sklearn.model_selection import train_test_split\n",
        "from sklearn.metrics import accuracy_score, precision_recall_fscore_support, confusion_matrix, classification_report\n",
        "import gc\n",
        "import torchvision.transforms as transforms\n",
        "import torchvision.models as models\n",
        "import torch.nn as nn\n",
        "from torchvision.models import resnet18, ResNet18_Weights\n",
        "import torch.optim as optim\n",
        "import seaborn as sns"
      ]
    },
    {
      "cell_type": "markdown",
      "metadata": {
        "id": "nXYSG3I3VJxM"
      },
      "source": [
        "# Carga del Dataset desde Google Drive"
      ]
    },
    {
      "cell_type": "markdown",
      "metadata": {
        "id": "tua3N-3s0H-A"
      },
      "source": [
        "Esta celda:\n",
        "\n",
        "- Detecta si el entorno es Google Colab o local (`using_colab`).\n",
        "- Monta Google Drive si estás en Colab.\n",
        "- Descarga el archivo ZIP del dataset de Los Simpsons desde una URL de Drive usando `gdown`.\n",
        "- Extrae el contenido del ZIP en la carpeta destino (`REPO_PATH`).\n",
        "- Define las rutas al dataset de imágenes y al archivo de anotaciones (`annotation.txt`)."
      ]
    },
    {
      "cell_type": "code",
      "execution_count": null,
      "metadata": {
        "colab": {
          "base_uri": "https://localhost:8080/"
        },
        "id": "LTbSpynVVKQv",
        "outputId": "785670fe-9f08-4f83-a560-dd8e6b88aaf5"
      },
      "outputs": [
        {
          "name": "stdout",
          "output_type": "stream",
          "text": [
            "Descargando dataset desde Drive a: ./simpsons_dataset.zip\n"
          ]
        },
        {
          "name": "stderr",
          "output_type": "stream",
          "text": [
            "Downloading...\n",
            "From (original): https://drive.google.com/uc?id=1TIX9pzPF7HvXuupRGiZUZr80Jg15_qub\n",
            "From (redirected): https://drive.google.com/uc?id=1TIX9pzPF7HvXuupRGiZUZr80Jg15_qub&confirm=t&uuid=e5ed1088-2c5d-430e-87ce-79121121896a\n",
            "To: /content/simpsons_dataset.zip\n",
            "100%|██████████| 1.16G/1.16G [00:21<00:00, 54.9MB/s]\n"
          ]
        },
        {
          "name": "stdout",
          "output_type": "stream",
          "text": [
            "Extrayendo: ./simpsons_dataset.zip\n"
          ]
        }
      ],
      "source": [
        "# Configura si se está usando Colab o local\n",
        "using_colab = False  # ← Cambia esto a True si estás en Colab\n",
        "\n",
        "if using_colab:\n",
        "    from google.colab import drive\n",
        "    drive.mount('/content/drive')\n",
        "    REPO_PATH = \"/content/drive/MyDrive/Data/simpsons_dataset\"\n",
        "else:\n",
        "    REPO_PATH = \".\"\n",
        "\n",
        "# Descargar el zip del dataset\n",
        "url = \"https://drive.google.com/uc?id=1TIX9pzPF7HvXuupRGiZUZr80Jg15_qub\"\n",
        "output = os.path.join(REPO_PATH, \"simpsons_dataset.zip\")\n",
        "\n",
        "print(f\"Descargando dataset desde Drive a: {output}\")\n",
        "gdown.download(url, output, quiet=False)\n",
        "\n",
        "# Descomprimir el ZIP principal\n",
        "print(f\"Extrayendo: {output}\")\n",
        "with zipfile.ZipFile(output, 'r') as zip_ref:\n",
        "    zip_ref.extractall(REPO_PATH)\n",
        "\n",
        "# Ruta final al dataset\n",
        "DATASET_PATH = os.path.join(REPO_PATH, \"simpson_dataset\")\n",
        "ANNOTATION_FILE = os.path.join(REPO_PATH, \"annotation.txt\")"
      ]
    },
    {
      "cell_type": "markdown",
      "metadata": {
        "id": "2zM72tcvVc_N"
      },
      "source": [
        "# División del dataset y generación de tripletas para entrenamiento"
      ]
    },
    {
      "cell_type": "markdown",
      "metadata": {
        "id": "mbIKXcGL0d4Y"
      },
      "source": [
        "Esta celda contiene dos funciones clave:\n",
        "- Lee el archivo `annotation.txt` con anotaciones originales (ruta, bounding box y clase).\n",
        "- Filtra entradas inválidas o etiquetas con pocas imágenes.\n",
        "- Divide el dataset en un conjunto de entrenamiento y otro de testeo (`train_test_split`).\n",
        "- Guarda ambos subconjuntos en formato `.csv` (`annotations_train.csv`, `annotations_test.csv`)."
      ]
    },
    {
      "cell_type": "code",
      "execution_count": null,
      "metadata": {
        "id": "Hy1iIsVzVf4g"
      },
      "outputs": [],
      "source": [
        "def split_annotations(annotation_path, root_dir, train_output, test_output, test_size=0.2):\n",
        "    label_to_entries = defaultdict(list)\n",
        "\n",
        "    with open(annotation_path, 'r') as f:\n",
        "        for line in f:\n",
        "            parts = line.strip().split(',')\n",
        "            if len(parts) != 6:\n",
        "                print(f\"[!] Línea ignorada (formato incorrecto): {line.strip()}\")\n",
        "                continue\n",
        "            path, x1, y1, x2, y2, label = parts\n",
        "\n",
        "            # Limpiar ruta para que coincida con la estructura real\n",
        "            if path.startswith(\"./characters/\"):\n",
        "                path = path[len(\"./characters/\"):]\n",
        "            elif path.startswith(\"./characters2/\"):\n",
        "                path = path[len(\"./characters2/\"):]\n",
        "\n",
        "            full_path = os.path.join(root_dir, path)\n",
        "            if not os.path.isfile(full_path):\n",
        "                print(f\"[!] ¡Archivo NO existe!: {full_path}\")\n",
        "            entry = {\n",
        "                'path': full_path,\n",
        "                'bbox': f\"{x1},{y1},{x2},{y2}\",\n",
        "                'label': label\n",
        "            }\n",
        "            label_to_entries[label].append(entry)\n",
        "\n",
        "    train_entries, test_entries = [], []\n",
        "    for entries in label_to_entries.values():\n",
        "        if len(entries) < 3:\n",
        "            print(f\"[!] Etiqueta con muy pocas imágenes, ignorada: {entries[0]['label']}\")\n",
        "            continue\n",
        "        train, test = train_test_split(entries, test_size=test_size, random_state=42)\n",
        "        train_entries.extend(train)\n",
        "        test_entries.extend(test)\n",
        "\n",
        "    def save_csv(entries, output_path):\n",
        "        with open(output_path, 'w', newline='') as f:\n",
        "            writer = csv.writer(f)\n",
        "            writer.writerow(['path', 'bbox', 'label'])\n",
        "            for e in entries:\n",
        "                writer.writerow([e['path'], e['bbox'], e['label']])\n",
        "\n",
        "    save_csv(train_entries, train_output)\n",
        "    save_csv(test_entries, test_output)\n",
        "    print(f\"[+] CSVs generados: {train_output} ({len(train_entries)} entradas), {test_output} ({len(test_entries)} entradas)\")"
      ]
    },
    {
      "cell_type": "markdown",
      "metadata": {
        "id": "3OxJWYah05pt"
      },
      "source": [
        "- Recorre de forma secuencial todas las clases para generar tripletas.\n",
        "- Asegura que **cada clase aparezca como \"anchor\" al menos una vez**.\n",
        "- Para cada imagen (anchor), elige:\n",
        "  - Una imagen **positiva** (misma clase, diferente imagen).\n",
        "  - Una imagen **negativa** (de una clase distinta).\n",
        "- Guarda las tripletas en un CSV con el formato necesario para entrenar usando **Triplet Loss**."
      ]
    },
    {
      "cell_type": "code",
      "execution_count": null,
      "metadata": {
        "id": "00AtXOEP06aR"
      },
      "outputs": [],
      "source": [
        "def generate_triplets_from_annotation_csv_improved(annotation_csv, output_csv, triplets_per_anchor=3):\n",
        "    \"\"\"\n",
        "    Mejora 1 y 2: Recorre todas las anotaciones secuencialmente (no random)\n",
        "    y asegura que todas las clases sean anchor al menos una vez.\n",
        "    \"\"\"\n",
        "    label_to_entries = defaultdict(list)\n",
        "\n",
        "    # Cargar todas las entradas\n",
        "    with open(annotation_csv, 'r') as f:\n",
        "        reader = csv.DictReader(f)\n",
        "        for row in reader:\n",
        "            path = row['path']\n",
        "            bbox = row['bbox']\n",
        "            label = row['label']\n",
        "            label_to_entries[label].append({'path': path, 'bbox': bbox, 'label': label})\n",
        "\n",
        "    triplets = []\n",
        "    labels = list(label_to_entries.keys())\n",
        "\n",
        "    print(f\"[+] Generando tripletas para {len(labels)} clases...\")\n",
        "\n",
        "    # Asegurar que cada clase sea anchor al menos una vez\n",
        "    for anchor_label in labels:\n",
        "        if len(label_to_entries[anchor_label]) < 2:\n",
        "            print(f\"[!] Clase {anchor_label} tiene muy pocas muestras, saltando...\")\n",
        "            continue\n",
        "\n",
        "        # Para cada entrada de esta clase como anchor\n",
        "        for anchor_entry in label_to_entries[anchor_label]:\n",
        "            # Generar múltiples tripletas para este anchor\n",
        "            for _ in range(triplets_per_anchor):\n",
        "                # Seleccionar positive (diferente al anchor)\n",
        "                positive_candidates = [e for e in label_to_entries[anchor_label]\n",
        "                                     if e['path'] != anchor_entry['path']]\n",
        "                if not positive_candidates:\n",
        "                    continue\n",
        "\n",
        "                positive = random.choice(positive_candidates)\n",
        "\n",
        "                # Seleccionar negative (clase diferente)\n",
        "                negative_labels = [l for l in labels if l != anchor_label]\n",
        "                if not negative_labels:\n",
        "                    continue\n",
        "\n",
        "                negative_label = random.choice(negative_labels)\n",
        "                negative = random.choice(label_to_entries[negative_label])\n",
        "\n",
        "                triplets.append((\n",
        "                    anchor_entry['path'], anchor_entry['bbox'], anchor_entry['label'],\n",
        "                    positive['path'], positive['bbox'], positive['label'],\n",
        "                    negative['path'], negative['bbox'], negative['label']\n",
        "                ))\n",
        "\n",
        "    # Guardar tripletas\n",
        "    with open(output_csv, 'w', newline='') as f:\n",
        "        writer = csv.writer(f)\n",
        "        writer.writerow([\n",
        "            'anchor_path', 'anchor_bbox', 'anchor_label',\n",
        "            'positive_path', 'positive_bbox', 'positive_label',\n",
        "            'negative_path', 'negative_bbox', 'negative_label'\n",
        "        ])\n",
        "        writer.writerows(triplets)\n",
        "\n",
        "    print(f\"[+] Tripletas generadas: {len(triplets)} → {output_csv}\")\n",
        "\n",
        "    # Verificar que todas las clases fueron anchor\n",
        "    anchor_labels_used = set(triplet[2] for triplet in triplets)\n",
        "    print(f\"[+] Clases que fueron anchor: {len(anchor_labels_used)}/{len(labels)}\")\n",
        "    missing_anchors = set(labels) - anchor_labels_used\n",
        "    if missing_anchors:\n",
        "        print(f\"[!] Clases que NO fueron anchor: {missing_anchors}\")\n",
        "\n",
        "    return len(triplets)"
      ]
    },
    {
      "cell_type": "markdown",
      "metadata": {
        "id": "s1N_CF1MVord"
      },
      "source": [
        "# Dataset personalizado para Triplet Loss"
      ]
    },
    {
      "cell_type": "markdown",
      "metadata": {
        "id": "OTjRWYLo1HIQ"
      },
      "source": [
        "Se encarga de:\n",
        "\n",
        "- Leer un archivo CSV que contiene tripletas (`anchor`, `positive`, `negative`) con sus rutas y bounding boxes.\n",
        "- Cargar las imágenes correspondientes para cada tripleta.\n",
        "- Recortarlas utilizando las coordenadas de la bounding box (`crop_with_bbox`).\n",
        "- Aplicar transformaciones opcionales (`transform`) a cada imagen.\n",
        "- Devolver las 3 imágenes recortadas y transformadas como un solo elemento (`__getitem__`).\n"
      ]
    },
    {
      "cell_type": "code",
      "execution_count": null,
      "metadata": {
        "id": "Y5C9I8oXVq3C"
      },
      "outputs": [],
      "source": [
        "class TripletImageDataset(Dataset):\n",
        "    def __init__(self, csv_file, transform=None):\n",
        "        self.transform = transform\n",
        "        self.triplets = []\n",
        "\n",
        "        with open(csv_file, 'r') as f:\n",
        "            reader = csv.DictReader(f)\n",
        "            for row in reader:\n",
        "                self.triplets.append(row)\n",
        "\n",
        "    def __len__(self):\n",
        "        return len(self.triplets)\n",
        "\n",
        "    def crop_with_bbox(self, img, bbox_str):\n",
        "        bbox = list(map(int, bbox_str.split(',')))\n",
        "        x1, y1, x2, y2 = bbox\n",
        "\n",
        "        # Asegurar que las coordenadas estén bien ordenadas\n",
        "        x1, x2 = sorted([x1, x2])\n",
        "        y1, y2 = sorted([y1, y2])\n",
        "\n",
        "        return img.crop((x1, y1, x2, y2))\n",
        "\n",
        "    def __getitem__(self, idx):\n",
        "        triplet = self.triplets[idx]\n",
        "\n",
        "        # Cargar imágenes\n",
        "        anchor_img = Image.open(triplet['anchor_path']).convert('RGB')\n",
        "        positive_img = Image.open(triplet['positive_path']).convert('RGB')\n",
        "        negative_img = Image.open(triplet['negative_path']).convert('RGB')\n",
        "\n",
        "        # Recortar usando las bounding boxes\n",
        "        anchor_img = self.crop_with_bbox(anchor_img, triplet['anchor_bbox'])\n",
        "        positive_img = self.crop_with_bbox(positive_img, triplet['positive_bbox'])\n",
        "        negative_img = self.crop_with_bbox(negative_img, triplet['negative_bbox'])\n",
        "\n",
        "        # Aplicar transformaciones\n",
        "        if self.transform:\n",
        "            anchor_img = self.transform(anchor_img)\n",
        "            positive_img = self.transform(positive_img)\n",
        "            negative_img = self.transform(negative_img)\n",
        "\n",
        "        return anchor_img, positive_img, negative_img"
      ]
    },
    {
      "cell_type": "markdown",
      "metadata": {
        "id": "BzjnUO-0Vv51"
      },
      "source": [
        "# Modelo de generación de embeddings"
      ]
    },
    {
      "cell_type": "markdown",
      "metadata": {
        "id": "BCH-Esne1cjn"
      },
      "source": [
        "Esta clase define una red neuronal basada en un modelo preentrenado (backbone) que genera **vectores de características (embeddings)** a partir de imágenes.\n",
        "\n",
        "Características:\n",
        "- Permite elegir entre distintos *backbones* de visión:\n",
        "  - `'resnet18'`\n",
        "  - `'efficientnet_b0'`\n",
        "  - `'densenet121'`\n",
        "- Elimina la capa final del modelo base y la reemplaza con una capa `Linear` que reduce la dimensión al tamaño deseado (`embedding_size`, por defecto 128).\n",
        "- Utiliza pesos preentrenados en ImageNet para acelerar la convergencia y mejorar el rendimiento."
      ]
    },
    {
      "cell_type": "code",
      "execution_count": null,
      "metadata": {
        "id": "gqsxZbGAVzdY"
      },
      "outputs": [],
      "source": [
        "class EmbeddingNet(nn.Module):\n",
        "    def __init__(self, backbone='resnet18', embedding_size=128):\n",
        "        super().__init__()\n",
        "        self.backbone_name = backbone\n",
        "        self.embedding_size = embedding_size\n",
        "\n",
        "        if backbone == 'resnet18':\n",
        "            base = models.resnet18(pretrained=True)\n",
        "            in_features = base.fc.in_features\n",
        "            base.fc = nn.Identity()\n",
        "        elif backbone == 'efficientnet_b0':\n",
        "            base = models.efficientnet_b0(pretrained=True)\n",
        "            in_features = base.classifier[1].in_features\n",
        "            base.classifier = nn.Identity()\n",
        "        elif backbone == 'densenet121':\n",
        "            base = models.densenet121(pretrained=True)\n",
        "            in_features = base.classifier.in_features\n",
        "            base.classifier = nn.Identity()\n",
        "        else:\n",
        "            raise ValueError(f\"Backbone {backbone} no soportado.\")\n",
        "\n",
        "        self.backbone = base\n",
        "        self.embedding = nn.Linear(in_features, embedding_size)\n",
        "\n",
        "    def forward(self, x):\n",
        "        x = self.backbone(x)\n",
        "        return self.embedding(x)"
      ]
    },
    {
      "cell_type": "markdown",
      "metadata": {
        "id": "2ph2xoYYV8lD"
      },
      "source": [
        "# Entrenamiento por epoch con Triplet Loss"
      ]
    },
    {
      "cell_type": "markdown",
      "metadata": {
        "id": "AY51nYmb1xVI"
      },
      "source": [
        "Ejecuta **una pasada de entrenamiento (epoch)** sobre el `dataloader` utilizando **Triplet Loss**.\n",
        "\n",
        "#### Flujo del entrenamiento:\n",
        "- Cambia el modelo a modo `train()`.\n",
        "- Itera por lotes de imágenes `(anchor, positive, negative)`.\n",
        "- Genera embeddings para cada imagen del triplete usando el modelo.\n",
        "- Calcula la pérdida `TripletMarginLoss`:\n",
        "  - Minimiza la distancia entre anchor y positive.\n",
        "  - Maximiza la distancia entre anchor y negative.\n",
        "- Aplica retropropagación y actualiza los pesos con el optimizador (`Adam`, SGD, etc.).\n",
        "- Acumula la pérdida media del epoch para monitoreo.\n",
        "\n",
        "Devuelve la **pérdida promedio del epoch**, útil para graficar curvas de entrenamiento."
      ]
    },
    {
      "cell_type": "code",
      "execution_count": null,
      "metadata": {
        "id": "T1qHTgwUV-nX"
      },
      "outputs": [],
      "source": [
        "def train(model, dataloader, optimizer, loss_fn, device):\n",
        "    model.train()\n",
        "    running_loss = 0.0\n",
        "\n",
        "    for anchor, positive, negative in tqdm(dataloader, desc=\"Train\"):\n",
        "        anchor, positive, negative = anchor.to(device), positive.to(device), negative.to(device)\n",
        "\n",
        "        emb_a = model(anchor)\n",
        "        emb_p = model(positive)\n",
        "        emb_n = model(negative)\n",
        "\n",
        "        loss = loss_fn(emb_a, emb_p, emb_n)\n",
        "\n",
        "        optimizer.zero_grad()\n",
        "        loss.backward()\n",
        "        optimizer.step()\n",
        "\n",
        "        running_loss += loss.item()\n",
        "\n",
        "    return running_loss / len(dataloader)"
      ]
    },
    {
      "cell_type": "markdown",
      "metadata": {
        "id": "_27r7CJuWGpR"
      },
      "source": [
        "# Evaluación del modelo con Triplet Loss\n",
        "Calcula la **pérdida promedio** del modelo sobre un conjunto de datos de evaluación, utilizando tripletas.\n",
        "\n",
        "- Cambia el modelo a modo `eval()`.\n",
        "- Desactiva el cálculo de gradientes con `torch.no_grad()` para ahorrar memoria y acelerar el proceso.\n",
        "- Itera por los lotes de tripletas `(anchor, positive, negative)` del `dataloader`.\n",
        "- Genera los embeddings de cada imagen y calcula la `TripletMarginLoss`.\n",
        "- Acumula la pérdida total para obtener el promedio final.\n",
        "\n",
        "Devuelve el valor de **loss promedio** sobre todo el dataset de evaluación.\n",
        "\n",
        "Es útil para monitorear si el modelo **generaliza bien** y no está sobreajustando."
      ]
    },
    {
      "cell_type": "code",
      "execution_count": null,
      "metadata": {
        "id": "pMeDaT8bWIEA"
      },
      "outputs": [],
      "source": [
        "def evaluate(model, dataloader, loss_fn, device):\n",
        "    model.eval()\n",
        "    total_loss = 0.0\n",
        "    with torch.no_grad():\n",
        "        for anchor, positive, negative in tqdm(dataloader, desc=\"Eval\"):\n",
        "            anchor, positive, negative = anchor.to(device), positive.to(device), negative.to(device)\n",
        "            emb_a = model(anchor)\n",
        "            emb_p = model(positive)\n",
        "            emb_n = model(negative)\n",
        "            loss = loss_fn(emb_a, emb_p, emb_n)\n",
        "            total_loss += loss.item()\n",
        "    return total_loss / len(dataloader)"
      ]
    },
    {
      "cell_type": "markdown",
      "metadata": {
        "id": "3a666Ya1WXPq"
      },
      "source": [
        "### Cálculo de Embeddings de Referencia por Clases\n",
        "\n",
        "Esta función genera un **embedding promedio por clase**, utilizado como punto de referencia para comparar nuevas imágenes en tareas de clasificación.\n",
        "\n",
        "- Agrupa las entradas del CSV de anotaciones por etiqueta/clase.\n",
        "- Para cada clase, toma una muestra aleatoria de imágenes (`samples_per_class`).\n",
        "- Recorta las imágenes según su bounding box.\n",
        "- Pasa cada imagen por el modelo entrenado para obtener su **vector de características (embedding)**.\n",
        "- Calcula el **promedio** de estos embeddings y lo guarda como referencia de la clase.\n",
        "\n",
        "Devuelve:\n",
        "- `reference_embeddings`: diccionario `{label: embedding_vector}`.\n",
        "- `class_labels`: lista de etiquetas presentes en el diccionario.\n",
        "\n",
        "Estos embeddings se usan para clasificar nuevas imágenes por similitud (usando distancia euclídea)."
      ]
    },
    {
      "cell_type": "code",
      "execution_count": null,
      "metadata": {
        "id": "O_z1kWWnWYAE"
      },
      "outputs": [],
      "source": [
        "def compute_reference_embeddings(model, annotation_csv, transform, device, samples_per_class=5):\n",
        "    \"\"\"Computa embeddings de referencia para cada clase\"\"\"\n",
        "    df = pd.read_csv(annotation_csv)\n",
        "    grouped = df.groupby('label')\n",
        "    reference_embeddings = {}\n",
        "    class_labels = []\n",
        "\n",
        "    model.eval()\n",
        "    with torch.no_grad():\n",
        "        for label, group in grouped:\n",
        "            embeddings = []\n",
        "            sampled_group = group.sample(min(samples_per_class, len(group)))\n",
        "            for _, row in sampled_group.iterrows():\n",
        "                try:\n",
        "                    img = Image.open(row['path']).convert('RGB')\n",
        "                    bbox = list(map(int, row['bbox'].split(',')))\n",
        "\n",
        "                    # Asegurar orden correcto de coordenadas\n",
        "                    x1, y1, x2, y2 = bbox\n",
        "                    x1, x2 = min(x1, x2), max(x1, x2)\n",
        "                    y1, y2 = min(y1, y2), max(y1, y2)\n",
        "                    corrected_bbox = (x1, y1, x2, y2)\n",
        "\n",
        "                    cropped = img.crop(corrected_bbox)\n",
        "                    tensor = transform(cropped).unsqueeze(0).to(device)\n",
        "                    emb = model(tensor).cpu().numpy()\n",
        "                    embeddings.append(emb)\n",
        "                except Exception as e:\n",
        "                    print(f\"Error procesando {row['path']}: {e}\")\n",
        "\n",
        "            if embeddings:\n",
        "                reference_embeddings[label] = np.mean(embeddings, axis=0)\n",
        "                class_labels.append(label)\n",
        "\n",
        "    return reference_embeddings, class_labels"
      ]
    },
    {
      "cell_type": "markdown",
      "metadata": {
        "id": "ZIVvrNdzYJPF"
      },
      "source": [
        "### Evaluación de Clasificación por Embeddings\n",
        "\n",
        "Esta función evalúa el desempeño del modelo en un conjunto de test utilizando los **embeddings de referencia** por clase.\n",
        "\n",
        "#### ¿Qué hace?\n",
        "- Carga las imágenes del CSV de test y las recorta usando las bounding boxes.\n",
        "- Calcula el **embedding** de cada imagen de test con el modelo entrenado.\n",
        "- Compara ese embedding con los de referencia (una por clase) usando la **distancia euclídea**.\n",
        "- Predice la clase con menor distancia (más similar).\n",
        "- Calcula y muestra la **accuracy** (exactitud) y un reporte por clase.\n",
        "\n",
        "#### Devuelve:\n",
        "- Diccionario con:\n",
        "  - `'accuracy'`: exactitud global del modelo.\n",
        "  - `'y_true'`: lista de etiquetas reales.\n",
        "  - `'y_pred'`: lista de etiquetas predichas.\n",
        "\n",
        "Esta función es útil para medir el desempeño final del sistema de clasificación basado en embeddings."
      ]
    },
    {
      "cell_type": "code",
      "execution_count": null,
      "metadata": {
        "id": "MGTu0FREYKOm"
      },
      "outputs": [],
      "source": [
        "\n",
        "\n",
        "def evaluate_classification_metrics(model, test_annotation_csv, transform, reference_embeddings, device):\n",
        "    \"\"\"\n",
        "    Mejora 3: Calcula métricas de clasificación completas\n",
        "    \"\"\"\n",
        "    print(\"[+] Evaluando métricas de clasificación...\")\n",
        "\n",
        "    df = pd.read_csv(test_annotation_csv)\n",
        "    y_true = []\n",
        "    y_pred = []\n",
        "\n",
        "    model.eval()\n",
        "    with torch.no_grad():\n",
        "        for _, row in tqdm(df.iterrows(), total=len(df), desc=\"Clasificando test set\"):\n",
        "            try:\n",
        "                # Cargar y procesar imagen\n",
        "                img = Image.open(row['path']).convert('RGB')\n",
        "                bbox = list(map(int, row['bbox'].split(',')))\n",
        "                x1, y1, x2, y2 = bbox\n",
        "                x1, x2 = min(x1, x2), max(x1, x2)\n",
        "                y1, y2 = min(y1, y2), max(y1, y2)\n",
        "\n",
        "                cropped = img.crop((x1, y1, x2, y2))\n",
        "                input_tensor = transform(cropped).unsqueeze(0).to(device)\n",
        "\n",
        "                # Obtener embedding\n",
        "                embedding = model(input_tensor).cpu().numpy()\n",
        "\n",
        "                # Clasificar comparando con embeddings de referencia\n",
        "                distances = {\n",
        "                    ref_label: np.linalg.norm(embedding - ref_emb)\n",
        "                    for ref_label, ref_emb in reference_embeddings.items()\n",
        "                }\n",
        "\n",
        "                predicted_label = min(distances, key=distances.get)\n",
        "\n",
        "                y_true.append(row['label'])\n",
        "                y_pred.append(predicted_label)\n",
        "\n",
        "            except Exception as e:\n",
        "                print(f\"Error procesando {row['path']}: {e}\")\n",
        "                continue\n",
        "\n",
        "    # Calcular métricas\n",
        "    accuracy = accuracy_score(y_true, y_pred)\n",
        "\n",
        "    print(f\"\\n=== MÉTRICA DE CLASIFICACIÓN ===\")\n",
        "    print(f\"Accuracy: {accuracy:.4f}\")\n",
        "\n",
        "    # Reporte detallado por clase\n",
        "    print(f\"\\n=== REPORTE POR CLASE ===\")\n",
        "    report = classification_report(y_true, y_pred)\n",
        "    print(report)\n",
        "\n",
        "\n",
        "    print(f\"\\n=== ESTADÍSTICAS ADICIONALES ===\")\n",
        "    print(f\"Total de muestras evaluadas: {len(y_true)}\")\n",
        "\n",
        "    return {\n",
        "        'accuracy': accuracy,\n",
        "        'y_true': y_true,\n",
        "        'y_pred': y_pred\n",
        "    }"
      ]
    },
    {
      "cell_type": "markdown",
      "metadata": {
        "id": "6wHHHJiFYNIH"
      },
      "source": [
        "###  Entrenamiento y Evaluación Completa del Modelo\n",
        "\n",
        "Esta función realiza un flujo completo para un backbone específico:\n",
        "\n",
        "- Prepara los datasets de tripletas para train y test con transformaciones adecuadas.\n",
        "- Inicializa un modelo con el backbone elegido y un tamaño de embedding definido.\n",
        "- Entrena el modelo usando triplet margin loss, guardando las pérdidas de entrenamiento y evaluación por época.\n",
        "- Guarda el modelo entrenado en disco.\n",
        "- Calcula embeddings de referencia para cada clase a partir del conjunto de entrenamiento.\n",
        "- Evalúa el modelo en el conjunto de test, calculando métricas de clasificación basadas en distancia entre embeddings.\n",
        "- Grafica la evolución de la pérdida durante el entrenamiento.\n",
        "\n",
        "Devuelve:\n",
        "- `model`: modelo entrenado.\n",
        "- `metrics`: diccionario con métricas de evaluación (accuracy, predicciones, etc).\n",
        "\n",
        "Esta función automatiza y simplifica el pipeline completo de entrenamiento y evaluación de modelos basados en aprendizaje de embeddings con triplet loss.\n"
      ]
    },
    {
      "cell_type": "code",
      "execution_count": null,
      "metadata": {
        "id": "sLG4sHXQYUsr"
      },
      "outputs": [],
      "source": [
        "def train_and_evaluate_model(backbone, train_csv, test_csv, device,\n",
        "                           embedding_size=128, batch_size=32, epochs=5,\n",
        "                           learning_rate=1e-4, margin=1.0):\n",
        "    \"\"\"Entrena un modelo y evalúa sus métricas\"\"\"\n",
        "    print(f\"\\n=== Entrenando y evaluando: {backbone} ===\")\n",
        "\n",
        "    # Preparar datasets\n",
        "    transform = transforms.Compose([\n",
        "        transforms.Resize((128, 128)),\n",
        "        transforms.ToTensor(),\n",
        "        transforms.Normalize([0.5]*3, [0.5]*3)\n",
        "    ])\n",
        "\n",
        "    train_dataset = TripletImageDataset(train_csv, transform=transform)\n",
        "    test_dataset = TripletImageDataset(test_csv, transform=transform)\n",
        "\n",
        "    train_loader = DataLoader(train_dataset, batch_size=batch_size, shuffle=True)\n",
        "    test_loader = DataLoader(test_dataset, batch_size=batch_size, shuffle=False)\n",
        "\n",
        "    # Crear y entrenar modelo\n",
        "    model = EmbeddingNet(backbone=backbone, embedding_size=embedding_size).to(device)\n",
        "    loss_fn = nn.TripletMarginLoss(margin=margin)\n",
        "    optimizer = optim.Adam(model.parameters(), lr=learning_rate)\n",
        "\n",
        "    # Entrenar\n",
        "    train_losses = []\n",
        "    test_losses = []\n",
        "\n",
        "    for epoch in range(epochs):\n",
        "        print(f\"Epoch {epoch+1}/{epochs}\")\n",
        "        train_loss = train(model, train_loader, optimizer, loss_fn, device)\n",
        "        test_loss = evaluate(model, test_loader, loss_fn, device)\n",
        "\n",
        "        train_losses.append(train_loss)\n",
        "        test_losses.append(test_loss)\n",
        "\n",
        "        print(f\"Train Loss: {train_loss:.4f} | Test Loss: {test_loss:.4f}\")\n",
        "\n",
        "    # Guardar modelo\n",
        "    model_path = f\"triplet_model_{backbone}.pth\"\n",
        "    torch.save(model.state_dict(), model_path)\n",
        "    print(f\"Modelo guardado: {model_path}\")\n",
        "\n",
        "    # Evaluar métricas de clasificación\n",
        "    reference_embeddings, class_labels = compute_reference_embeddings(\n",
        "        model, 'annotations_train.csv', transform, device\n",
        "    )\n",
        "\n",
        "    metrics = evaluate_classification_metrics(\n",
        "        model, 'annotations_test.csv', transform, reference_embeddings, device\n",
        "    )\n",
        "\n",
        "    # Graficar pérdidas\n",
        "    plt.figure(figsize=(10, 5))\n",
        "    plt.plot(range(1, epochs+1), train_losses, 'b-', label='Train Loss')\n",
        "    plt.plot(range(1, epochs+1), test_losses, 'r-', label='Test Loss')\n",
        "    plt.xlabel('Epoch')\n",
        "    plt.ylabel('Loss')\n",
        "    plt.title(f'Pérdidas durante entrenamiento - {backbone}')\n",
        "    plt.legend()\n",
        "    plt.grid(True)\n",
        "    plt.show()\n",
        "\n",
        "    return model, metrics, train_losses, test_losses"
      ]
    },
    {
      "cell_type": "markdown",
      "metadata": {
        "id": "Xg7F_qDCYN9A"
      },
      "source": [
        "### Ejecución Completa del Pipeline de Entrenamiento y Evaluación\n",
        "\n",
        "Este bloque realiza la ejecución completa de todo el flujo de trabajo:\n",
        "\n",
        "1. **Configuración del dispositivo** (GPU si está disponible, sino CPU).\n",
        "2. **División del dataset original en sets de entrenamiento y prueba** usando `split_annotations`.\n",
        "3. **Generación de tripletas para entrenamiento y test** con la función mejorada para asegurar que todas las clases sean anclas.\n",
        "4. **Entrenamiento y evaluación secuencial** de varios backbones populares (`resnet18`, `densenet121`, `efficientnet_b0`) con la función `train_and_evaluate_model`.\n",
        "5. **Almacenamiento de métricas** para cada modelo entrenado.\n",
        "6. **Comparación y reporte final de métricas** (accuracy, F1-score, precision, recall) para todos los backbones.\n",
        "7. **Selección e impresión del mejor modelo** basado en la mejor accuracy.\n",
        "\n",
        "Este script automatiza la preparación de datos, generación de tripletas, entrenamiento y evaluación para comparar arquitecturas, ideal para experimentación rápida y benchmarking en datasets con aprendizaje por tripletas."
      ]
    },
    {
      "cell_type": "code",
      "execution_count": null,
      "metadata": {
        "colab": {
          "background_save": true,
          "base_uri": "https://localhost:8080/",
          "height": 1000
        },
        "id": "dV3C4raizgys",
        "outputId": "ff477c29-cbc1-413b-f702-8ab9bba17e6f"
      },
      "outputs": [
        {
          "name": "stdout",
          "output_type": "stream",
          "text": [
            "Usando dispositivo: cuda\n",
            "[+] CSVs generados: annotations_train.csv (5395 entradas), annotations_test.csv (1357 entradas)\n",
            "\n",
            "=== Generando tripletas mejoradas ===\n",
            "[+] Generando tripletas para 18 clases...\n",
            "[+] Tripletas generadas: 16185 → triplets_train.csv\n",
            "[+] Clases que fueron anchor: 18/18\n",
            "[+] Generando tripletas para 18 clases...\n",
            "[+] Tripletas generadas: 2714 → triplets_test.csv\n",
            "[+] Clases que fueron anchor: 18/18\n",
            "\n",
            "=== Entrenando y evaluando: resnet18 ===\n"
          ]
        },
        {
          "name": "stderr",
          "output_type": "stream",
          "text": [
            "/usr/local/lib/python3.11/dist-packages/torchvision/models/_utils.py:208: UserWarning: The parameter 'pretrained' is deprecated since 0.13 and may be removed in the future, please use 'weights' instead.\n",
            "  warnings.warn(\n",
            "/usr/local/lib/python3.11/dist-packages/torchvision/models/_utils.py:223: UserWarning: Arguments other than a weight enum or `None` for 'weights' are deprecated since 0.13 and may be removed in the future. The current behavior is equivalent to passing `weights=ResNet18_Weights.IMAGENET1K_V1`. You can also use `weights=ResNet18_Weights.DEFAULT` to get the most up-to-date weights.\n",
            "  warnings.warn(msg)\n",
            "Downloading: \"https://download.pytorch.org/models/resnet18-f37072fd.pth\" to /root/.cache/torch/hub/checkpoints/resnet18-f37072fd.pth\n",
            "100%|██████████| 44.7M/44.7M [00:00<00:00, 134MB/s]\n"
          ]
        },
        {
          "name": "stdout",
          "output_type": "stream",
          "text": [
            "Epoch 1/5\n"
          ]
        },
        {
          "name": "stderr",
          "output_type": "stream",
          "text": [
            "Train: 100%|██████████| 506/506 [02:44<00:00,  3.08it/s]\n",
            "Eval: 100%|██████████| 85/85 [00:22<00:00,  3.82it/s]\n"
          ]
        },
        {
          "name": "stdout",
          "output_type": "stream",
          "text": [
            "Train Loss: 0.2064 | Test Loss: 0.0989\n",
            "Epoch 2/5\n"
          ]
        },
        {
          "name": "stderr",
          "output_type": "stream",
          "text": [
            "Train: 100%|██████████| 506/506 [03:00<00:00,  2.80it/s]\n",
            "Eval: 100%|██████████| 85/85 [00:25<00:00,  3.35it/s]\n"
          ]
        },
        {
          "name": "stdout",
          "output_type": "stream",
          "text": [
            "Train Loss: 0.0386 | Test Loss: 0.0978\n",
            "Epoch 3/5\n"
          ]
        },
        {
          "name": "stderr",
          "output_type": "stream",
          "text": [
            "Train: 100%|██████████| 506/506 [03:02<00:00,  2.77it/s]\n",
            "Eval: 100%|██████████| 85/85 [00:25<00:00,  3.29it/s]\n"
          ]
        },
        {
          "name": "stdout",
          "output_type": "stream",
          "text": [
            "Train Loss: 0.0199 | Test Loss: 0.0958\n",
            "Epoch 4/5\n"
          ]
        },
        {
          "name": "stderr",
          "output_type": "stream",
          "text": [
            "Train: 100%|██████████| 506/506 [03:00<00:00,  2.81it/s]\n",
            "Eval: 100%|██████████| 85/85 [00:24<00:00,  3.42it/s]\n"
          ]
        },
        {
          "name": "stdout",
          "output_type": "stream",
          "text": [
            "Train Loss: 0.0198 | Test Loss: 0.0963\n",
            "Epoch 5/5\n"
          ]
        },
        {
          "name": "stderr",
          "output_type": "stream",
          "text": [
            "Train: 100%|██████████| 506/506 [02:42<00:00,  3.12it/s]\n",
            "Eval: 100%|██████████| 85/85 [00:21<00:00,  3.96it/s]\n"
          ]
        },
        {
          "name": "stdout",
          "output_type": "stream",
          "text": [
            "Train Loss: 0.0168 | Test Loss: 0.1001\n",
            "Modelo guardado: triplet_model_resnet18.pth\n",
            "[+] Evaluando métricas de clasificación...\n"
          ]
        },
        {
          "name": "stderr",
          "output_type": "stream",
          "text": [
            "Clasificando test set: 100%|██████████| 1357/1357 [00:08<00:00, 163.54it/s]\n"
          ]
        },
        {
          "name": "stdout",
          "output_type": "stream",
          "text": [
            "\n",
            "=== MÉTRICA DE CLASIFICACIÓN ===\n",
            "Accuracy: 0.9086\n",
            "\n",
            "=== REPORTE POR CLASE ===\n",
            "                          precision    recall  f1-score   support\n",
            "\n",
            "  abraham_grampa_simpson       1.00      0.90      0.95       119\n",
            "  apu_nahasapeemapetilon       1.00      0.90      0.95        42\n",
            "            bart_simpson       0.91      0.98      0.94       111\n",
            "charles_montgomery_burns       0.92      0.84      0.88       130\n",
            "            chief_wiggum       0.93      0.93      0.93        42\n",
            "          comic_book_guy       0.73      0.86      0.79        42\n",
            "          edna_krabappel       0.93      0.88      0.90        43\n",
            "           homer_simpson       0.85      0.96      0.90       123\n",
            "           kent_brockman       0.81      0.91      0.86        43\n",
            "        krusty_the_clown       0.88      0.91      0.89        46\n",
            "            lisa_simpson       0.94      0.83      0.88       113\n",
            "           marge_simpson       0.96      0.96      0.96       112\n",
            "     milhouse_van_houten       0.95      0.86      0.90        42\n",
            "             moe_szyslak       0.90      0.81      0.85        43\n",
            "            ned_flanders       0.98      0.92      0.95       119\n",
            "            nelson_muntz       0.90      0.84      0.87        44\n",
            "       principal_skinner       0.81      0.98      0.89       102\n",
            "            sideshow_bob       0.93      0.95      0.94        41\n",
            "\n",
            "                accuracy                           0.91      1357\n",
            "               macro avg       0.91      0.90      0.90      1357\n",
            "            weighted avg       0.91      0.91      0.91      1357\n",
            "\n",
            "\n",
            "=== ESTADÍSTICAS ADICIONALES ===\n",
            "Total de muestras evaluadas: 1357\n"
          ]
        },
        {
          "data": {
            "image/png": "[encoded data removed]",
            "text/plain": [
              "<Figure size 1000x500 with 1 Axes>"
            ]
          },
          "metadata": {},
          "output_type": "display_data"
        },
        {
          "name": "stdout",
          "output_type": "stream",
          "text": [
            "\n",
            "Pérdidas por época para resnet18:\n",
            " Epoch 1: Train Loss=0.2064, Test Loss=0.0989\n",
            " Epoch 2: Train Loss=0.0386, Test Loss=0.0978\n",
            " Epoch 3: Train Loss=0.0199, Test Loss=0.0958\n",
            " Epoch 4: Train Loss=0.0198, Test Loss=0.0963\n",
            " Epoch 5: Train Loss=0.0168, Test Loss=0.1001\n",
            "\n",
            "=== Entrenando y evaluando: densenet121 ===\n"
          ]
        },
        {
          "name": "stderr",
          "output_type": "stream",
          "text": [
            "/usr/local/lib/python3.11/dist-packages/torchvision/models/_utils.py:208: UserWarning: The parameter 'pretrained' is deprecated since 0.13 and may be removed in the future, please use 'weights' instead.\n",
            "  warnings.warn(\n",
            "/usr/local/lib/python3.11/dist-packages/torchvision/models/_utils.py:223: UserWarning: Arguments other than a weight enum or `None` for 'weights' are deprecated since 0.13 and may be removed in the future. The current behavior is equivalent to passing `weights=DenseNet121_Weights.IMAGENET1K_V1`. You can also use `weights=DenseNet121_Weights.DEFAULT` to get the most up-to-date weights.\n",
            "  warnings.warn(msg)\n",
            "Downloading: \"https://download.pytorch.org/models/densenet121-a639ec97.pth\" to /root/.cache/torch/hub/checkpoints/densenet121-a639ec97.pth\n",
            "100%|██████████| 30.8M/30.8M [00:00<00:00, 202MB/s]\n"
          ]
        },
        {
          "name": "stdout",
          "output_type": "stream",
          "text": [
            "Epoch 1/5\n"
          ]
        },
        {
          "name": "stderr",
          "output_type": "stream",
          "text": [
            "Train: 100%|██████████| 506/506 [04:42<00:00,  1.79it/s]\n",
            "Eval: 100%|██████████| 85/85 [00:28<00:00,  3.00it/s]\n"
          ]
        },
        {
          "name": "stdout",
          "output_type": "stream",
          "text": [
            "Train Loss: 0.1799 | Test Loss: 0.0783\n",
            "Epoch 2/5\n"
          ]
        },
        {
          "name": "stderr",
          "output_type": "stream",
          "text": [
            "Train: 100%|██████████| 506/506 [04:39<00:00,  1.81it/s]\n",
            "Eval: 100%|██████████| 85/85 [00:28<00:00,  2.95it/s]\n"
          ]
        },
        {
          "name": "stdout",
          "output_type": "stream",
          "text": [
            "Train Loss: 0.0266 | Test Loss: 0.0713\n",
            "Epoch 3/5\n"
          ]
        },
        {
          "name": "stderr",
          "output_type": "stream",
          "text": [
            "Train: 100%|██████████| 506/506 [04:37<00:00,  1.82it/s]\n",
            "Eval: 100%|██████████| 85/85 [00:27<00:00,  3.09it/s]\n"
          ]
        },
        {
          "name": "stdout",
          "output_type": "stream",
          "text": [
            "Train Loss: 0.0155 | Test Loss: 0.0648\n",
            "Epoch 4/5\n"
          ]
        },
        {
          "name": "stderr",
          "output_type": "stream",
          "text": [
            "Train: 100%|██████████| 506/506 [04:36<00:00,  1.83it/s]\n",
            "Eval: 100%|██████████| 85/85 [00:28<00:00,  3.03it/s]\n"
          ]
        },
        {
          "name": "stdout",
          "output_type": "stream",
          "text": [
            "Train Loss: 0.0126 | Test Loss: 0.0815\n",
            "Epoch 5/5\n"
          ]
        },
        {
          "name": "stderr",
          "output_type": "stream",
          "text": [
            "Train: 100%|██████████| 506/506 [04:37<00:00,  1.82it/s]\n",
            "Eval: 100%|██████████| 85/85 [00:28<00:00,  2.96it/s]\n"
          ]
        },
        {
          "name": "stdout",
          "output_type": "stream",
          "text": [
            "Train Loss: 0.0179 | Test Loss: 0.0671\n",
            "Modelo guardado: triplet_model_densenet121.pth\n",
            "[+] Evaluando métricas de clasificación...\n"
          ]
        },
        {
          "name": "stderr",
          "output_type": "stream",
          "text": [
            "Clasificando test set: 100%|██████████| 1357/1357 [00:30<00:00, 44.73it/s]\n"
          ]
        },
        {
          "name": "stdout",
          "output_type": "stream",
          "text": [
            "\n",
            "=== MÉTRICA DE CLASIFICACIÓN ===\n",
            "Accuracy: 0.9307\n",
            "\n",
            "=== REPORTE POR CLASE ===\n",
            "                          precision    recall  f1-score   support\n",
            "\n",
            "  abraham_grampa_simpson       0.95      0.96      0.95       119\n",
            "  apu_nahasapeemapetilon       0.98      0.98      0.98        42\n",
            "            bart_simpson       1.00      0.98      0.99       111\n",
            "charles_montgomery_burns       0.90      0.88      0.89       130\n",
            "            chief_wiggum       1.00      0.98      0.99        42\n",
            "          comic_book_guy       0.90      0.83      0.86        42\n",
            "          edna_krabappel       0.93      0.93      0.93        43\n",
            "           homer_simpson       0.93      0.93      0.93       123\n",
            "           kent_brockman       0.95      0.86      0.90        43\n",
            "        krusty_the_clown       0.95      0.91      0.93        46\n",
            "            lisa_simpson       0.90      0.89      0.90       113\n",
            "           marge_simpson       0.95      0.99      0.97       112\n",
            "     milhouse_van_houten       1.00      0.86      0.92        42\n",
            "             moe_szyslak       0.95      0.88      0.92        43\n",
            "            ned_flanders       0.96      0.92      0.94       119\n",
            "            nelson_muntz       0.89      0.93      0.91        44\n",
            "       principal_skinner       0.80      0.97      0.88       102\n",
            "            sideshow_bob       0.97      0.95      0.96        41\n",
            "\n",
            "                accuracy                           0.93      1357\n",
            "               macro avg       0.94      0.92      0.93      1357\n",
            "            weighted avg       0.93      0.93      0.93      1357\n",
            "\n",
            "\n",
            "=== ESTADÍSTICAS ADICIONALES ===\n",
            "Total de muestras evaluadas: 1357\n"
          ]
        },
        {
          "data": {
            "image/png": "[encoded data removed]",
            "text/plain": [
              "<Figure size 1000x500 with 1 Axes>"
            ]
          },
          "metadata": {},
          "output_type": "display_data"
        },
        {
          "name": "stdout",
          "output_type": "stream",
          "text": [
            "\n",
            "Pérdidas por época para densenet121:\n",
            " Epoch 1: Train Loss=0.1799, Test Loss=0.0783\n",
            " Epoch 2: Train Loss=0.0266, Test Loss=0.0713\n",
            " Epoch 3: Train Loss=0.0155, Test Loss=0.0648\n",
            " Epoch 4: Train Loss=0.0126, Test Loss=0.0815\n",
            " Epoch 5: Train Loss=0.0179, Test Loss=0.0671\n",
            "\n",
            "=== Entrenando y evaluando: efficientnet_b0 ===\n"
          ]
        },
        {
          "name": "stderr",
          "output_type": "stream",
          "text": [
            "/usr/local/lib/python3.11/dist-packages/torchvision/models/_utils.py:208: UserWarning: The parameter 'pretrained' is deprecated since 0.13 and may be removed in the future, please use 'weights' instead.\n",
            "  warnings.warn(\n",
            "/usr/local/lib/python3.11/dist-packages/torchvision/models/_utils.py:223: UserWarning: Arguments other than a weight enum or `None` for 'weights' are deprecated since 0.13 and may be removed in the future. The current behavior is equivalent to passing `weights=EfficientNet_B0_Weights.IMAGENET1K_V1`. You can also use `weights=EfficientNet_B0_Weights.DEFAULT` to get the most up-to-date weights.\n",
            "  warnings.warn(msg)\n",
            "Downloading: \"https://download.pytorch.org/models/efficientnet_b0_rwightman-7f5810bc.pth\" to /root/.cache/torch/hub/checkpoints/efficientnet_b0_rwightman-7f5810bc.pth\n",
            "100%|██████████| 20.5M/20.5M [00:00<00:00, 184MB/s]\n"
          ]
        },
        {
          "name": "stdout",
          "output_type": "stream",
          "text": [
            "Epoch 1/5\n"
          ]
        },
        {
          "name": "stderr",
          "output_type": "stream",
          "text": [
            "Train: 100%|██████████| 506/506 [03:15<00:00,  2.59it/s]\n",
            "Eval: 100%|██████████| 85/85 [00:22<00:00,  3.75it/s]\n"
          ]
        },
        {
          "name": "stdout",
          "output_type": "stream",
          "text": [
            "Train Loss: 0.3589 | Test Loss: 0.1267\n",
            "Epoch 2/5\n"
          ]
        },
        {
          "name": "stderr",
          "output_type": "stream",
          "text": [
            "Train: 100%|██████████| 506/506 [03:13<00:00,  2.62it/s]\n",
            "Eval: 100%|██████████| 85/85 [00:22<00:00,  3.76it/s]\n"
          ]
        },
        {
          "name": "stdout",
          "output_type": "stream",
          "text": [
            "Train Loss: 0.0633 | Test Loss: 0.0981\n",
            "Epoch 3/5\n"
          ]
        },
        {
          "name": "stderr",
          "output_type": "stream",
          "text": [
            "Train: 100%|██████████| 506/506 [03:12<00:00,  2.63it/s]\n",
            "Eval: 100%|██████████| 85/85 [00:22<00:00,  3.76it/s]\n"
          ]
        },
        {
          "name": "stdout",
          "output_type": "stream",
          "text": [
            "Train Loss: 0.0258 | Test Loss: 0.0861\n",
            "Epoch 4/5\n"
          ]
        },
        {
          "name": "stderr",
          "output_type": "stream",
          "text": [
            "Train: 100%|██████████| 506/506 [03:12<00:00,  2.63it/s]\n",
            "Eval: 100%|██████████| 85/85 [00:22<00:00,  3.79it/s]\n"
          ]
        },
        {
          "name": "stdout",
          "output_type": "stream",
          "text": [
            "Train Loss: 0.0145 | Test Loss: 0.0807\n",
            "Epoch 5/5\n"
          ]
        },
        {
          "name": "stderr",
          "output_type": "stream",
          "text": [
            "Train: 100%|██████████| 506/506 [03:11<00:00,  2.64it/s]\n",
            "Eval: 100%|██████████| 85/85 [00:22<00:00,  3.80it/s]\n"
          ]
        },
        {
          "name": "stdout",
          "output_type": "stream",
          "text": [
            "Train Loss: 0.0107 | Test Loss: 0.0807\n",
            "Modelo guardado: triplet_model_efficientnet_b0.pth\n",
            "[+] Evaluando métricas de clasificación...\n"
          ]
        },
        {
          "name": "stderr",
          "output_type": "stream",
          "text": [
            "Clasificando test set: 100%|██████████| 1357/1357 [00:17<00:00, 77.00it/s]\n"
          ]
        },
        {
          "name": "stdout",
          "output_type": "stream",
          "text": [
            "\n",
            "=== MÉTRICA DE CLASIFICACIÓN ===\n",
            "Accuracy: 0.9219\n",
            "\n",
            "=== REPORTE POR CLASE ===\n",
            "                          precision    recall  f1-score   support\n",
            "\n",
            "  abraham_grampa_simpson       0.98      0.95      0.97       119\n",
            "  apu_nahasapeemapetilon       1.00      0.98      0.99        42\n",
            "            bart_simpson       0.97      0.96      0.97       111\n",
            "charles_montgomery_burns       0.89      0.90      0.89       130\n",
            "            chief_wiggum       0.95      0.90      0.93        42\n",
            "          comic_book_guy       0.77      0.81      0.79        42\n",
            "          edna_krabappel       0.83      0.93      0.88        43\n",
            "           homer_simpson       0.93      0.93      0.93       123\n",
            "           kent_brockman       0.95      0.86      0.90        43\n",
            "        krusty_the_clown       0.93      0.91      0.92        46\n",
            "            lisa_simpson       0.78      0.93      0.85       113\n",
            "           marge_simpson       1.00      0.98      0.99       112\n",
            "     milhouse_van_houten       0.85      0.93      0.89        42\n",
            "             moe_szyslak       0.90      0.81      0.85        43\n",
            "            ned_flanders       0.99      0.85      0.91       119\n",
            "            nelson_muntz       0.95      0.91      0.93        44\n",
            "       principal_skinner       0.91      0.94      0.93       102\n",
            "            sideshow_bob       1.00      1.00      1.00        41\n",
            "\n",
            "                accuracy                           0.92      1357\n",
            "               macro avg       0.92      0.92      0.92      1357\n",
            "            weighted avg       0.93      0.92      0.92      1357\n",
            "\n",
            "\n",
            "=== ESTADÍSTICAS ADICIONALES ===\n",
            "Total de muestras evaluadas: 1357\n"
          ]
        },
        {
          "data": {
            "image/png": "[encoded data removed]",
            "text/plain": [
              "<Figure size 1000x500 with 1 Axes>"
            ]
          },
          "metadata": {},
          "output_type": "display_data"
        },
        {
          "name": "stdout",
          "output_type": "stream",
          "text": [
            "\n",
            "Pérdidas por época para efficientnet_b0:\n",
            " Epoch 1: Train Loss=0.3589, Test Loss=0.1267\n",
            " Epoch 2: Train Loss=0.0633, Test Loss=0.0981\n",
            " Epoch 3: Train Loss=0.0258, Test Loss=0.0861\n",
            " Epoch 4: Train Loss=0.0145, Test Loss=0.0807\n",
            " Epoch 5: Train Loss=0.0107, Test Loss=0.0807\n",
            "\n",
            "============================================================\n",
            "COMPARACIÓN FINAL DE MODELOS\n",
            "============================================================\n",
            "\n",
            "RESNET18:\n",
            "  Accuracy: 0.9086\n",
            "\n",
            "DENSENET121:\n",
            "  Accuracy: 0.9307\n",
            "\n",
            "EFFICIENTNET_B0:\n",
            "  Accuracy: 0.9219\n",
            "\n",
            "🏆 MEJOR MODELO: DENSENET121\n",
            "   Accuracy: 0.9307\n"
          ]
        }
      ],
      "source": [
        "\n",
        "if __name__ == \"__main__\":\n",
        "    # Configuración\n",
        "    device = torch.device('cuda' if torch.cuda.is_available() else 'cpu')\n",
        "    print(f\"Usando dispositivo: {device}\")\n",
        "\n",
        "    root_dir = 'simpsons_dataset'\n",
        "    annotation_txt = 'annotation.txt'\n",
        "\n",
        "    # Paso 1: dividir anotaciones\n",
        "    split_annotations(\n",
        "        annotation_path=annotation_txt,\n",
        "        root_dir=root_dir,\n",
        "        train_output='annotations_train.csv',\n",
        "        test_output='annotations_test.csv',\n",
        "        test_size=0.2\n",
        "    )\n",
        "\n",
        "    # Paso 2: generar tripletas mejoradas (todas las clases como anchor)\n",
        "    print(\"\\n=== Generando tripletas mejoradas ===\")\n",
        "    generate_triplets_from_annotation_csv_improved(\n",
        "        'annotations_train.csv', 'triplets_train.csv', triplets_per_anchor=3\n",
        "    )\n",
        "    generate_triplets_from_annotation_csv_improved(\n",
        "        'annotations_test.csv', 'triplets_test.csv', triplets_per_anchor=2\n",
        "    )\n",
        "\n",
        "    ### Paso 3: entrenar y evaluar cada modelo\n",
        "    backbones = ['resnet18', 'densenet121', 'efficientnet_b0']\n",
        "    results = {}\n",
        "\n",
        "    for backbone in backbones:\n",
        "        model, metrics, train_losses, test_losses = train_and_evaluate_model(\n",
        "            backbone=backbone,\n",
        "            train_csv='triplets_train.csv',\n",
        "            test_csv='triplets_test.csv',\n",
        "            device=device,\n",
        "            epochs=5\n",
        "        )\n",
        "        results[backbone] = metrics\n",
        "\n",
        "        # Imprimir pérdidas\n",
        "        print(f\"\\nPérdidas por época para {backbone}:\")\n",
        "        for epoch, (tloss, vloss) in enumerate(zip(train_losses, test_losses), 1):\n",
        "            print(f\" Epoch {epoch}: Train Loss={tloss:.4f}, Test Loss={vloss:.4f}\")\n",
        "\n",
        "    #Comparar modelos\n",
        "    print(\"\\n\" + \"=\"*60)\n",
        "    print(\"COMPARACIÓN FINAL DE MODELOS\")\n",
        "    print(\"=\"*60)\n",
        "\n",
        "    for backbone, metrics in results.items():\n",
        "        print(f\"\\n{backbone.upper()}:\")\n",
        "        print(f\"  Accuracy: {metrics['accuracy']:.4f}\")\n",
        "\n",
        "    #Encontrar mejor modelo\n",
        "    best_backbone = max(results.keys(), key=lambda x: results[x]['accuracy'])\n",
        "    print(f\"\\n🏆 MEJOR MODELO: {best_backbone.upper()}\")\n",
        "    print(f\"   Accuracy: {results[best_backbone]['accuracy']:.4f}\")"
      ]
    },
    {
      "cell_type": "markdown",
      "metadata": {
        "id": "sjLe0zOMFC0-"
      },
      "source": [
        "###  Función para cargar el modelo entrenado\n",
        "Carga los pesos de un modelo previamente entrenado."
      ]
    },
    {
      "cell_type": "code",
      "execution_count": null,
      "metadata": {
        "id": "AmWYwlo4FO8w"
      },
      "outputs": [],
      "source": [
        "import os\n",
        "import random\n",
        "import numpy as np\n",
        "import pandas as pd\n",
        "import matplotlib.pyplot as plt\n",
        "from PIL import Image\n",
        "import torch\n",
        "from torchvision import transforms\n",
        "from torch import nn\n",
        "import torchvision.models as models\n",
        "\n",
        "def load_trained_model(model_path, backbone='resnet18', embedding_size=128, device='cpu'):\n",
        "    \"\"\"\n",
        "    Carga un modelo entrenado desde archivo\n",
        "    \"\"\"\n",
        "    model = EmbeddingNet(backbone=backbone, embedding_size=embedding_size)\n",
        "    model.load_state_dict(torch.load(model_path, map_location=device))\n",
        "    model.to(device)\n",
        "    model.eval()\n",
        "    return model"
      ]
    },
    {
      "cell_type": "markdown",
      "metadata": {
        "id": "feTZp4oyFabS"
      },
      "source": [
        "# Obtener imagen aleatoria"
      ]
    },
    {
      "cell_type": "markdown",
      "metadata": {
        "id": "NFFWjYMpFTTP"
      },
      "source": [
        "Función para seleccionar una imagen aleatoria del dataset"
      ]
    },
    {
      "cell_type": "code",
      "execution_count": null,
      "metadata": {
        "id": "I-faqVlAFenJ"
      },
      "outputs": [],
      "source": [
        "def get_random_image_from_dataset(annotation_csv):\n",
        "    \"\"\"\n",
        "    Selecciona una imagen aleatoria del dataset\n",
        "    \"\"\"\n",
        "    df = pd.read_csv(annotation_csv)\n",
        "    random_idx = random.randint(0, len(df) - 1)\n",
        "    row = df.iloc[random_idx]\n",
        "\n",
        "    return {\n",
        "        'path': row['path'],\n",
        "        'bbox': row['bbox'],\n",
        "        'true_label': row['label']\n",
        "    }"
      ]
    },
    {
      "cell_type": "markdown",
      "metadata": {
        "id": "YJKc2p5EFh7K"
      },
      "source": [
        "# Preprocesamiento de imagen\n",
        "Función para procesar una imagen aplicando la bounding box y transformaciones"
      ]
    },
    {
      "cell_type": "code",
      "execution_count": null,
      "metadata": {
        "id": "C3sV6oCWFnq-"
      },
      "outputs": [],
      "source": [
        "def preprocess_image(image_path, bbox_str, transform):\n",
        "    \"\"\"\n",
        "    Procesa una imagen aplicando bounding box y transformaciones\n",
        "    \"\"\"\n",
        "    try:\n",
        "        # Cargar imagen\n",
        "        img = Image.open(image_path).convert('RGB')\n",
        "\n",
        "        # Aplicar bounding box\n",
        "        bbox = list(map(int, bbox_str.split(',')))\n",
        "        x1, y1, x2, y2 = bbox\n",
        "\n",
        "        # Asegurar orden correcto de coordenadas\n",
        "        x1, x2 = min(x1, x2), max(x1, x2)\n",
        "        y1, y2 = min(y1, y2), max(y1, y2)\n",
        "\n",
        "        # Recortar imagen\n",
        "        cropped_img = img.crop((x1, y1, x2, y2))\n",
        "\n",
        "        # Aplicar transformaciones\n",
        "        if transform:\n",
        "            tensor_img = transform(cropped_img)\n",
        "        else:\n",
        "            tensor_img = transforms.ToTensor()(cropped_img)\n",
        "\n",
        "        return cropped_img, tensor_img\n",
        "\n",
        "    except Exception as e:\n",
        "        print(f\"Error procesando imagen {image_path}: {e}\")\n",
        "        return None, None"
      ]
    },
    {
      "cell_type": "markdown",
      "metadata": {
        "id": "6KF7Z90aFq5y"
      },
      "source": [
        "# Predicción de personaje\n",
        "Función para predecir el personaje más probable"
      ]
    },
    {
      "cell_type": "code",
      "execution_count": null,
      "metadata": {
        "id": "b_nXoAD5FxTQ"
      },
      "outputs": [],
      "source": [
        "def predict_character(model, image_tensor, reference_embeddings, device):\n",
        "    \"\"\"\n",
        "    Predice el personaje usando el modelo entrenado\n",
        "    \"\"\"\n",
        "    model.eval()\n",
        "    with torch.no_grad():\n",
        "        # Obtener embedding de la imagen\n",
        "        image_tensor = image_tensor.unsqueeze(0).to(device)\n",
        "        embedding = model(image_tensor).cpu().numpy()\n",
        "\n",
        "        # Calcular distancias con embeddings de referencia\n",
        "        distances = {}\n",
        "        for ref_label, ref_emb in reference_embeddings.items():\n",
        "            distance = np.linalg.norm(embedding - ref_emb)\n",
        "            distances[ref_label] = distance\n",
        "\n",
        "        # Ordenar por distancia (menor distancia = más similar)\n",
        "        sorted_predictions = sorted(distances.items(), key=lambda x: x[1])\n",
        "\n",
        "        return sorted_predictions"
      ]
    },
    {
      "cell_type": "markdown",
      "metadata": {
        "id": "bUsV8d2XFz-l"
      },
      "source": [
        "# Visualización de resultados\n",
        "Visualización de la imagen y las top-5 predicciones"
      ]
    },
    {
      "cell_type": "code",
      "execution_count": null,
      "metadata": {
        "id": "s_9wqG3yGAsV"
      },
      "outputs": [],
      "source": [
        "def visualize_prediction(image, true_label, predictions, top_k=5):\n",
        "    \"\"\"\n",
        "    Visualiza la imagen y las predicciones\n",
        "    \"\"\"\n",
        "    fig, (ax1, ax2) = plt.subplots(1, 2, figsize=(15, 6))\n",
        "\n",
        "    # Mostrar imagen\n",
        "    ax1.imshow(image)\n",
        "    ax1.set_title(f'Imagen Original\\nEtiqueta Real: {true_label}', fontsize=12)\n",
        "    ax1.axis('off')\n",
        "\n",
        "    # Mostrar predicciones\n",
        "    labels = [pred[0] for pred in predictions[:top_k]]\n",
        "    distances = [pred[1] for pred in predictions[:top_k]]\n",
        "\n",
        "    # Crear gráfico de barras horizontal\n",
        "    y_pos = np.arange(len(labels))\n",
        "    bars = ax2.barh(y_pos, distances)\n",
        "\n",
        "    # Colorear la barra de la predicción correcta\n",
        "    predicted_label = predictions[0][0]\n",
        "    if predicted_label == true_label:\n",
        "        bars[0].set_color('green')\n",
        "        bars[0].set_alpha(0.8)\n",
        "    else:\n",
        "        bars[0].set_color('red')\n",
        "        bars[0].set_alpha(0.8)\n",
        "\n",
        "    ax2.set_yticks(y_pos)\n",
        "    ax2.set_yticklabels(labels)\n",
        "    ax2.invert_yaxis()\n",
        "    ax2.set_xlabel('Distancia Euclidiana')\n",
        "    ax2.set_title(f'Top {top_k} Predicciones\\nPredicción: {predicted_label}', fontsize=12)\n",
        "    ax2.grid(axis='x', alpha=0.3)\n",
        "\n",
        "    plt.tight_layout()\n",
        "    plt.show()\n",
        "\n",
        "    return predicted_label == true_label"
      ]
    },
    {
      "cell_type": "markdown",
      "metadata": {
        "id": "0BCZ7v9GGE7t"
      },
      "source": [
        "# Predicción sobre una imagen aleatoria\n",
        "Función principal para predecir sobre una imagen aleatoria"
      ]
    },
    {
      "cell_type": "code",
      "execution_count": null,
      "metadata": {
        "id": "30I2ZvkcGFlW"
      },
      "outputs": [],
      "source": [
        "def predict_random_image(model_path, annotation_csv, reference_embeddings,\n",
        "                        backbone='resnet18', embedding_size=128, device='cpu'):\n",
        "    \"\"\"\n",
        "    Función principal para predecir una imagen aleatoria\n",
        "    \"\"\"\n",
        "    # Configurar transformaciones\n",
        "    transform = transforms.Compose([\n",
        "        transforms.Resize((128, 128)),\n",
        "        transforms.ToTensor(),\n",
        "        transforms.Normalize([0.5]*3, [0.5]*3)\n",
        "    ])\n",
        "\n",
        "    # Cargar modelo\n",
        "    print(\"Cargando modelo...\")\n",
        "    model = load_trained_model(model_path, backbone, embedding_size, device)\n",
        "\n",
        "    # Seleccionar imagen aleatoria\n",
        "    print(\"Seleccionando imagen aleatoria...\")\n",
        "    random_image_info = get_random_image_from_dataset(annotation_csv)\n",
        "\n",
        "    print(f\"Imagen seleccionada: {random_image_info['path']}\")\n",
        "    print(f\"Etiqueta real: {random_image_info['true_label']}\")\n",
        "\n",
        "    # Procesar imagen\n",
        "    cropped_img, tensor_img = preprocess_image(\n",
        "        random_image_info['path'],\n",
        "        random_image_info['bbox'],\n",
        "        transform\n",
        "    )\n",
        "\n",
        "    if cropped_img is None:\n",
        "        print(\"Error al procesar la imagen\")\n",
        "        return None\n",
        "\n",
        "    # Hacer predicción\n",
        "    print(\"Realizando predicción...\")\n",
        "    predictions = predict_character(model, tensor_img, reference_embeddings, device)\n",
        "\n",
        "    # Visualizar resultados\n",
        "    is_correct = visualize_prediction(\n",
        "        cropped_img,\n",
        "        random_image_info['true_label'],\n",
        "        predictions\n",
        "    )\n",
        "\n",
        "    # Mostrar resultados en texto\n",
        "    print(f\"\\n{'='*50}\")\n",
        "    print(f\"RESULTADOS DE PREDICCIÓN\")\n",
        "    print(f\"{'='*50}\")\n",
        "    print(f\"Etiqueta real: {random_image_info['true_label']}\")\n",
        "    print(f\"Predicción: {predictions[0][0]}\")\n",
        "    print(f\"Distancia: {predictions[0][1]:.4f}\")\n",
        "    print(f\"¿Correcta?: {'✅ SÍ' if is_correct else '❌ NO'}\")\n",
        "\n",
        "    print(f\"\\nTop 5 predicciones:\")\n",
        "    for i, (label, distance) in enumerate(predictions[:5]):\n",
        "        print(f\"{i+1}. {label}: {distance:.4f}\")\n",
        "\n",
        "    return {\n",
        "        'true_label': random_image_info['true_label'],\n",
        "        'predicted_label': predictions[0][0],\n",
        "        'distance': predictions[0][1],\n",
        "        'is_correct': is_correct,\n",
        "        'all_predictions': predictions,\n",
        "        'image_path': random_image_info['path']\n",
        "    }\n"
      ]
    },
    {
      "cell_type": "markdown",
      "metadata": {
        "id": "O4Dkldv_GPBX"
      },
      "source": [
        "## Predicción múltiple (evaluación por lotes)\n",
        "Función para realizar múltiples predicciones aleatorias"
      ]
    },
    {
      "cell_type": "code",
      "execution_count": null,
      "metadata": {
        "id": "W88ynOHgGWfl"
      },
      "outputs": [],
      "source": [
        "def test_multiple_random_predictions(model_path, annotation_csv, reference_embeddings,\n",
        "                                   num_tests=10, backbone='resnet18', embedding_size=128, device='cpu'):\n",
        "    \"\"\"\n",
        "    Realiza múltiples predicciones aleatorias para evaluar el rendimiento\n",
        "    \"\"\"\n",
        "    results = []\n",
        "    correct_predictions = 0\n",
        "\n",
        "    print(f\"Realizando {num_tests} predicciones aleatorias...\")\n",
        "\n",
        "    for i in range(num_tests):\n",
        "        print(f\"\\n--- Predicción {i+1}/{num_tests} ---\")\n",
        "        result = predict_random_image(\n",
        "            model_path, annotation_csv, reference_embeddings,\n",
        "            backbone, embedding_size, device\n",
        "        )\n",
        "\n",
        "        if result:\n",
        "            results.append(result)\n",
        "            if result['is_correct']:\n",
        "                correct_predictions += 1\n",
        "\n",
        "    # Mostrar estadísticas finales\n",
        "    accuracy = correct_predictions / len(results) if results else 0\n",
        "    print(f\"\\n{'='*60}\")\n",
        "    print(f\"ESTADÍSTICAS FINALES\")\n",
        "    print(f\"{'='*60}\")\n",
        "    print(f\"Total de predicciones: {len(results)}\")\n",
        "    print(f\"Predicciones correctas: {correct_predictions}\")\n",
        "    print(f\"Accuracy: {accuracy:.2%}\")\n",
        "\n",
        "    return results"
      ]
    },
    {
      "cell_type": "markdown",
      "metadata": {
        "id": "q2esKC_gGfJS"
      },
      "source": [
        "# Función principal (una predicción)\n",
        "Ejecutar predicción de una sola imagen"
      ]
    },
    {
      "cell_type": "code",
      "execution_count": null,
      "metadata": {
        "id": "fZDxYopBGi7D"
      },
      "outputs": [],
      "source": [
        "# Código completo para ejecutar predicciones\n",
        "def run_random_prediction_complete():\n",
        "    \"\"\"\n",
        "    Función completa para ejecutar predicción en imagen aleatoria\n",
        "    \"\"\"\n",
        "    # Configuración\n",
        "    device = torch.device('cuda' if torch.cuda.is_available() else 'cpu')\n",
        "    print(f\"Usando dispositivo: {device}\")\n",
        "\n",
        "    # Configurar transformaciones (deben ser las mismas del entrenamiento)\n",
        "    transform = transforms.Compose([\n",
        "        transforms.Resize((128, 128)),\n",
        "        transforms.ToTensor(),\n",
        "        transforms.Normalize([0.5]*3, [0.5]*3)\n",
        "    ])\n",
        "\n",
        "    # Cargar el mejor modelo (ajusta el nombre según tu modelo entrenado)\n",
        "    model_path = 'triplet_model_resnet18.pth'  # Cambia por tu modelo\n",
        "    model = load_trained_model(model_path, 'resnet18', 128, device)\n",
        "\n",
        "    # Generar embeddings de referencia\n",
        "    print(\"Generando embeddings de referencia...\")\n",
        "    reference_embeddings, class_labels = compute_reference_embeddings(\n",
        "        model, 'annotations_train.csv', transform, device, samples_per_class=5\n",
        "    )\n",
        "\n",
        "    print(f\"Clases disponibles: {class_labels}\")\n",
        "    print(f\"Total de clases: {len(class_labels)}\")\n",
        "\n",
        "    # Realizar predicción en imagen aleatoria\n",
        "    print(\"\\n\" + \"=\"*50)\n",
        "    print(\"PREDICCIÓN EN IMAGEN ALEATORIA\")\n",
        "    print(\"=\"*50)\n",
        "\n",
        "    result = predict_random_image(\n",
        "        model_path='triplet_model_resnet18.pth',\n",
        "        annotation_csv='annotations_test.csv',\n",
        "        reference_embeddings=reference_embeddings,\n",
        "        backbone='resnet18',\n",
        "        embedding_size=128,\n",
        "        device=device\n",
        "    )\n",
        "\n",
        "    return result"
      ]
    },
    {
      "cell_type": "markdown",
      "metadata": {
        "id": "G9K3_-3WGmql"
      },
      "source": [
        "# Función principal (múltiples predicciones)\n",
        "Ejecutar múltiples predicciones aleatorias"
      ]
    },
    {
      "cell_type": "code",
      "execution_count": null,
      "metadata": {
        "id": "L9xO6Qw3GrrG"
      },
      "outputs": [],
      "source": [
        "def run_multiple_predictions():\n",
        "    \"\"\"\n",
        "    Ejecuta múltiples predicciones para evaluar el rendimiento\n",
        "    \"\"\"\n",
        "    device = torch.device('cuda' if torch.cuda.is_available() else 'cpu')\n",
        "\n",
        "    # Configurar transformaciones\n",
        "    transform = transforms.Compose([\n",
        "        transforms.Resize((128, 128)),\n",
        "        transforms.ToTensor(),\n",
        "        transforms.Normalize([0.5]*3, [0.5]*3)\n",
        "    ])\n",
        "\n",
        "    # Cargar modelo y generar embeddings de referencia\n",
        "    model_path = 'triplet_model_resnet18.pth'\n",
        "    model = load_trained_model(model_path, 'resnet18', 128, device)\n",
        "\n",
        "    reference_embeddings, class_labels = compute_reference_embeddings(\n",
        "        model, 'annotations_train.csv', transform, device\n",
        "    )\n",
        "\n",
        "    # Realizar múltiples predicciones\n",
        "    results = test_multiple_random_predictions(\n",
        "        model_path=model_path,\n",
        "        annotation_csv='annotations_test.csv',\n",
        "        reference_embeddings=reference_embeddings,\n",
        "        num_tests=5,  # Cambia este número para más o menos pruebas\n",
        "        backbone='resnet18',\n",
        "        device=device\n",
        "    )\n",
        "\n",
        "    return results\n"
      ]
    },
    {
      "cell_type": "markdown",
      "metadata": {
        "id": "MfrTr37-Gz_j"
      },
      "source": [
        "# Ejecutar código main\n",
        "###  Ejecución de prueba del sistema completo\n",
        "Descomenta una de las siguientes líneas para probar el sistema de predicción.\n",
        "\n",
        "Para predecir una sola imagen aleatoria:\n",
        "`result = run_random_prediction_complete()`\n",
        "\n",
        "Para predecir múltiples imágenes:\n",
        "`results = run_multiple_predictions()`"
      ]
    },
    {
      "cell_type": "code",
      "execution_count": null,
      "metadata": {
        "colab": {
          "base_uri": "https://localhost:8080/",
          "height": 898
        },
        "id": "hSA7jjSRMtG3",
        "outputId": "7b3e9779-e3af-444c-b311-9568467291be"
      },
      "outputs": [
        {
          "name": "stdout",
          "output_type": "stream",
          "text": [
            "\n",
            "INSTRUCCIONES DE USO:\n",
            "\n",
            "1. Primero ejecuta tu código de entrenamiento completo\n",
            "2. Asegúrate de que tienes los archivos:\n",
            "   - triplet_model_resnet18.pth (o el nombre de tu modelo)\n",
            "   - annotations_train.csv\n",
            "   - annotations_test.csv\n",
            "\n",
            "3. Para predecir UNA imagen aleatoria:\n",
            "   result = run_random_prediction_complete()\n",
            "\n",
            "4. Para predecir MÚLTIPLES imágenes aleatorias:\n",
            "   results = run_multiple_predictions()\n",
            "\n",
            "5. Las funciones mostrarán:\n",
            "   - La imagen recortada\n",
            "   - Las top 5 predicciones con distancias\n",
            "   - Si la predicción fue correcta o no\n",
            "   - Estadísticas de accuracy\n",
            "\n",
            "Usando dispositivo: cuda\n"
          ]
        },
        {
          "name": "stderr",
          "output_type": "stream",
          "text": [
            "/usr/local/lib/python3.11/dist-packages/torchvision/models/_utils.py:208: UserWarning: The parameter 'pretrained' is deprecated since 0.13 and may be removed in the future, please use 'weights' instead.\n",
            "  warnings.warn(\n",
            "/usr/local/lib/python3.11/dist-packages/torchvision/models/_utils.py:223: UserWarning: Arguments other than a weight enum or `None` for 'weights' are deprecated since 0.13 and may be removed in the future. The current behavior is equivalent to passing `weights=ResNet18_Weights.IMAGENET1K_V1`. You can also use `weights=ResNet18_Weights.DEFAULT` to get the most up-to-date weights.\n",
            "  warnings.warn(msg)\n",
            "Downloading: \"https://download.pytorch.org/models/resnet18-f37072fd.pth\" to /root/.cache/torch/hub/checkpoints/resnet18-f37072fd.pth\n",
            "100%|██████████| 44.7M/44.7M [00:00<00:00, 182MB/s]\n"
          ]
        },
        {
          "ename": "FileNotFoundError",
          "evalue": "[Errno 2] No such file or directory: 'triplet_model_resnet18.pth'",
          "output_type": "error",
          "traceback": [
            "\u001b[0;31m---------------------------------------------------------------------------\u001b[0m",
            "\u001b[0;31mFileNotFoundError\u001b[0m                         Traceback (most recent call last)",
            "\u001b[0;32m/tmp/ipython-input-12-3509588549.py\u001b[0m in \u001b[0;36m<cell line: 0>\u001b[0;34m()\u001b[0m\n\u001b[1;32m    332\u001b[0m \u001b[0;34m\u001b[0m\u001b[0m\n\u001b[1;32m    333\u001b[0m     \u001b[0;31m# Para una sola predicción:\u001b[0m\u001b[0;34m\u001b[0m\u001b[0;34m\u001b[0m\u001b[0m\n\u001b[0;32m--> 334\u001b[0;31m     \u001b[0mresult\u001b[0m \u001b[0;34m=\u001b[0m \u001b[0mrun_random_prediction_complete\u001b[0m\u001b[0;34m(\u001b[0m\u001b[0;34m)\u001b[0m\u001b[0;34m\u001b[0m\u001b[0;34m\u001b[0m\u001b[0m\n\u001b[0m\u001b[1;32m    335\u001b[0m \u001b[0;34m\u001b[0m\u001b[0m\n\u001b[1;32m    336\u001b[0m     \u001b[0;31m# Para múltiples predicciones:\u001b[0m\u001b[0;34m\u001b[0m\u001b[0;34m\u001b[0m\u001b[0m\n",
            "\u001b[0;32m/tmp/ipython-input-12-3509588549.py\u001b[0m in \u001b[0;36mrun_random_prediction_complete\u001b[0;34m()\u001b[0m\n\u001b[1;32m    244\u001b[0m     \u001b[0;31m# Cargar el mejor modelo (ajusta el nombre según tu modelo entrenado)\u001b[0m\u001b[0;34m\u001b[0m\u001b[0;34m\u001b[0m\u001b[0m\n\u001b[1;32m    245\u001b[0m     \u001b[0mmodel_path\u001b[0m \u001b[0;34m=\u001b[0m \u001b[0;34m'triplet_model_resnet18.pth'\u001b[0m  \u001b[0;31m# Cambia por tu modelo\u001b[0m\u001b[0;34m\u001b[0m\u001b[0;34m\u001b[0m\u001b[0m\n\u001b[0;32m--> 246\u001b[0;31m     \u001b[0mmodel\u001b[0m \u001b[0;34m=\u001b[0m \u001b[0mload_trained_model\u001b[0m\u001b[0;34m(\u001b[0m\u001b[0mmodel_path\u001b[0m\u001b[0;34m,\u001b[0m \u001b[0;34m'resnet18'\u001b[0m\u001b[0;34m,\u001b[0m \u001b[0;36m128\u001b[0m\u001b[0;34m,\u001b[0m \u001b[0mdevice\u001b[0m\u001b[0;34m)\u001b[0m\u001b[0;34m\u001b[0m\u001b[0;34m\u001b[0m\u001b[0m\n\u001b[0m\u001b[1;32m    247\u001b[0m \u001b[0;34m\u001b[0m\u001b[0m\n\u001b[1;32m    248\u001b[0m     \u001b[0;31m# Generar embeddings de referencia\u001b[0m\u001b[0;34m\u001b[0m\u001b[0;34m\u001b[0m\u001b[0m\n",
            "\u001b[0;32m/tmp/ipython-input-12-3509588549.py\u001b[0m in \u001b[0;36mload_trained_model\u001b[0;34m(model_path, backbone, embedding_size, device)\u001b[0m\n\u001b[1;32m     15\u001b[0m     \"\"\"\n\u001b[1;32m     16\u001b[0m     \u001b[0mmodel\u001b[0m \u001b[0;34m=\u001b[0m \u001b[0mEmbeddingNet\u001b[0m\u001b[0;34m(\u001b[0m\u001b[0mbackbone\u001b[0m\u001b[0;34m=\u001b[0m\u001b[0mbackbone\u001b[0m\u001b[0;34m,\u001b[0m \u001b[0membedding_size\u001b[0m\u001b[0;34m=\u001b[0m\u001b[0membedding_size\u001b[0m\u001b[0;34m)\u001b[0m\u001b[0;34m\u001b[0m\u001b[0;34m\u001b[0m\u001b[0m\n\u001b[0;32m---> 17\u001b[0;31m     \u001b[0mmodel\u001b[0m\u001b[0;34m.\u001b[0m\u001b[0mload_state_dict\u001b[0m\u001b[0;34m(\u001b[0m\u001b[0mtorch\u001b[0m\u001b[0;34m.\u001b[0m\u001b[0mload\u001b[0m\u001b[0;34m(\u001b[0m\u001b[0mmodel_path\u001b[0m\u001b[0;34m,\u001b[0m \u001b[0mmap_location\u001b[0m\u001b[0;34m=\u001b[0m\u001b[0mdevice\u001b[0m\u001b[0;34m)\u001b[0m\u001b[0;34m)\u001b[0m\u001b[0;34m\u001b[0m\u001b[0;34m\u001b[0m\u001b[0m\n\u001b[0m\u001b[1;32m     18\u001b[0m     \u001b[0mmodel\u001b[0m\u001b[0;34m.\u001b[0m\u001b[0mto\u001b[0m\u001b[0;34m(\u001b[0m\u001b[0mdevice\u001b[0m\u001b[0;34m)\u001b[0m\u001b[0;34m\u001b[0m\u001b[0;34m\u001b[0m\u001b[0m\n\u001b[1;32m     19\u001b[0m     \u001b[0mmodel\u001b[0m\u001b[0;34m.\u001b[0m\u001b[0meval\u001b[0m\u001b[0;34m(\u001b[0m\u001b[0;34m)\u001b[0m\u001b[0;34m\u001b[0m\u001b[0;34m\u001b[0m\u001b[0m\n",
            "\u001b[0;32m/usr/local/lib/python3.11/dist-packages/torch/serialization.py\u001b[0m in \u001b[0;36mload\u001b[0;34m(f, map_location, pickle_module, weights_only, mmap, **pickle_load_args)\u001b[0m\n\u001b[1;32m   1423\u001b[0m         \u001b[0mpickle_load_args\u001b[0m\u001b[0;34m[\u001b[0m\u001b[0;34m\"encoding\"\u001b[0m\u001b[0;34m]\u001b[0m \u001b[0;34m=\u001b[0m \u001b[0;34m\"utf-8\"\u001b[0m\u001b[0;34m\u001b[0m\u001b[0;34m\u001b[0m\u001b[0m\n\u001b[1;32m   1424\u001b[0m \u001b[0;34m\u001b[0m\u001b[0m\n\u001b[0;32m-> 1425\u001b[0;31m     \u001b[0;32mwith\u001b[0m \u001b[0m_open_file_like\u001b[0m\u001b[0;34m(\u001b[0m\u001b[0mf\u001b[0m\u001b[0;34m,\u001b[0m \u001b[0;34m\"rb\"\u001b[0m\u001b[0;34m)\u001b[0m \u001b[0;32mas\u001b[0m \u001b[0mopened_file\u001b[0m\u001b[0;34m:\u001b[0m\u001b[0;34m\u001b[0m\u001b[0;34m\u001b[0m\u001b[0m\n\u001b[0m\u001b[1;32m   1426\u001b[0m         \u001b[0;32mif\u001b[0m \u001b[0m_is_zipfile\u001b[0m\u001b[0;34m(\u001b[0m\u001b[0mopened_file\u001b[0m\u001b[0;34m)\u001b[0m\u001b[0;34m:\u001b[0m\u001b[0;34m\u001b[0m\u001b[0;34m\u001b[0m\u001b[0m\n\u001b[1;32m   1427\u001b[0m             \u001b[0;31m# The zipfile reader is going to advance the current file position.\u001b[0m\u001b[0;34m\u001b[0m\u001b[0;34m\u001b[0m\u001b[0m\n",
            "\u001b[0;32m/usr/local/lib/python3.11/dist-packages/torch/serialization.py\u001b[0m in \u001b[0;36m_open_file_like\u001b[0;34m(name_or_buffer, mode)\u001b[0m\n\u001b[1;32m    749\u001b[0m \u001b[0;32mdef\u001b[0m \u001b[0m_open_file_like\u001b[0m\u001b[0;34m(\u001b[0m\u001b[0mname_or_buffer\u001b[0m\u001b[0;34m,\u001b[0m \u001b[0mmode\u001b[0m\u001b[0;34m)\u001b[0m\u001b[0;34m:\u001b[0m\u001b[0;34m\u001b[0m\u001b[0;34m\u001b[0m\u001b[0m\n\u001b[1;32m    750\u001b[0m     \u001b[0;32mif\u001b[0m \u001b[0m_is_path\u001b[0m\u001b[0;34m(\u001b[0m\u001b[0mname_or_buffer\u001b[0m\u001b[0;34m)\u001b[0m\u001b[0;34m:\u001b[0m\u001b[0;34m\u001b[0m\u001b[0;34m\u001b[0m\u001b[0m\n\u001b[0;32m--> 751\u001b[0;31m         \u001b[0;32mreturn\u001b[0m \u001b[0m_open_file\u001b[0m\u001b[0;34m(\u001b[0m\u001b[0mname_or_buffer\u001b[0m\u001b[0;34m,\u001b[0m \u001b[0mmode\u001b[0m\u001b[0;34m)\u001b[0m\u001b[0;34m\u001b[0m\u001b[0;34m\u001b[0m\u001b[0m\n\u001b[0m\u001b[1;32m    752\u001b[0m     \u001b[0;32melse\u001b[0m\u001b[0;34m:\u001b[0m\u001b[0;34m\u001b[0m\u001b[0;34m\u001b[0m\u001b[0m\n\u001b[1;32m    753\u001b[0m         \u001b[0;32mif\u001b[0m \u001b[0;34m\"w\"\u001b[0m \u001b[0;32min\u001b[0m \u001b[0mmode\u001b[0m\u001b[0;34m:\u001b[0m\u001b[0;34m\u001b[0m\u001b[0;34m\u001b[0m\u001b[0m\n",
            "\u001b[0;32m/usr/local/lib/python3.11/dist-packages/torch/serialization.py\u001b[0m in \u001b[0;36m__init__\u001b[0;34m(self, name, mode)\u001b[0m\n\u001b[1;32m    730\u001b[0m \u001b[0;32mclass\u001b[0m \u001b[0m_open_file\u001b[0m\u001b[0;34m(\u001b[0m\u001b[0m_opener\u001b[0m\u001b[0;34m)\u001b[0m\u001b[0;34m:\u001b[0m\u001b[0;34m\u001b[0m\u001b[0;34m\u001b[0m\u001b[0m\n\u001b[1;32m    731\u001b[0m     \u001b[0;32mdef\u001b[0m \u001b[0m__init__\u001b[0m\u001b[0;34m(\u001b[0m\u001b[0mself\u001b[0m\u001b[0;34m,\u001b[0m \u001b[0mname\u001b[0m\u001b[0;34m,\u001b[0m \u001b[0mmode\u001b[0m\u001b[0;34m)\u001b[0m\u001b[0;34m:\u001b[0m\u001b[0;34m\u001b[0m\u001b[0;34m\u001b[0m\u001b[0m\n\u001b[0;32m--> 732\u001b[0;31m         \u001b[0msuper\u001b[0m\u001b[0;34m(\u001b[0m\u001b[0;34m)\u001b[0m\u001b[0;34m.\u001b[0m\u001b[0m__init__\u001b[0m\u001b[0;34m(\u001b[0m\u001b[0mopen\u001b[0m\u001b[0;34m(\u001b[0m\u001b[0mname\u001b[0m\u001b[0;34m,\u001b[0m \u001b[0mmode\u001b[0m\u001b[0;34m)\u001b[0m\u001b[0;34m)\u001b[0m\u001b[0;34m\u001b[0m\u001b[0;34m\u001b[0m\u001b[0m\n\u001b[0m\u001b[1;32m    733\u001b[0m \u001b[0;34m\u001b[0m\u001b[0m\n\u001b[1;32m    734\u001b[0m     \u001b[0;32mdef\u001b[0m \u001b[0m__exit__\u001b[0m\u001b[0;34m(\u001b[0m\u001b[0mself\u001b[0m\u001b[0;34m,\u001b[0m \u001b[0;34m*\u001b[0m\u001b[0margs\u001b[0m\u001b[0;34m)\u001b[0m\u001b[0;34m:\u001b[0m\u001b[0;34m\u001b[0m\u001b[0;34m\u001b[0m\u001b[0m\n",
            "\u001b[0;31mFileNotFoundError\u001b[0m: [Errno 2] No such file or directory: 'triplet_model_resnet18.pth'"
          ]
        }
      ],
      "source": [
        "if __name__ == \"__main__\":\n",
        "    # Descomenta la línea que quieras ejecutar:\n",
        "\n",
        "    # Para una sola predicción:\n",
        "    result = run_random_prediction_complete()\n",
        "\n",
        "    # Para múltiples predicciones:\n",
        "    #results = run_multiple_predictions()\n",
        "\n",
        "    print(\"Ejecuta las funciones run_random_prediction_complete() o run_multiple_predictions()\")"
      ]
    }
  ],
  "metadata": {
    "accelerator": "GPU",
    "colab": {
      "gpuType": "T4",
      "provenance": []
    },
    "kernelspec": {
      "display_name": "Python 3",
      "name": "python3"
    },
    "language_info": {
      "name": "python"
    }
  },
  "nbformat": 4,
  "nbformat_minor": 0
}